{
  "nbformat": 4,
  "nbformat_minor": 0,
  "metadata": {
    "colab": {
      "name": "Loan Calculation",
      "provenance": [],
      "collapsed_sections": []
    },
    "kernelspec": {
      "name": "python3",
      "display_name": "Python 3"
    },
    "language_info": {
      "name": "python"
    }
  },
  "cells": [
    {
      "cell_type": "code",
      "execution_count": 26,
      "metadata": {
        "id": "ZrFtcOLKE8KO"
      },
      "outputs": [],
      "source": [
        "RATE = 0.036"
      ]
    },
    {
      "cell_type": "code",
      "source": [
        "LOAN = 80"
      ],
      "metadata": {
        "id": "nXZ_aYs9E-3g"
      },
      "execution_count": 27,
      "outputs": []
    },
    {
      "cell_type": "code",
      "source": [
        "YEAR = 30"
      ],
      "metadata": {
        "id": "cmKeXG71Fj9l"
      },
      "execution_count": null,
      "outputs": []
    },
    {
      "cell_type": "code",
      "source": [
        "def interest_sum(a, r, n):\n",
        "  return a * r * n"
      ],
      "metadata": {
        "id": "q8ZJg66aGOBW"
      },
      "execution_count": 14,
      "outputs": []
    },
    {
      "cell_type": "code",
      "source": [
        "def geometric_sum(a, r, n):\n",
        "  return a * (1 - r**n) / (1 - r)"
      ],
      "metadata": {
        "id": "q0pS7vZuFYhV"
      },
      "execution_count": 15,
      "outputs": []
    },
    {
      "cell_type": "code",
      "source": [
        "IRR = RATE / 12"
      ],
      "metadata": {
        "id": "W3EnDTyfEbL-"
      },
      "execution_count": 43,
      "outputs": []
    },
    {
      "cell_type": "code",
      "source": [
        "geometric_sum(3000, 1/(1+IRR), 360)"
      ],
      "metadata": {
        "colab": {
          "base_uri": "https://localhost:8080/"
        },
        "id": "ijogRx-nEMG2",
        "outputId": "07dc7b4b-e77b-409e-a243-d1c403f661fd"
      },
      "execution_count": 44,
      "outputs": [
        {
          "output_type": "execute_result",
          "data": {
            "text/plain": [
              "661834.5482934909"
            ]
          },
          "metadata": {},
          "execution_count": 44
        }
      ]
    },
    {
      "cell_type": "code",
      "source": [
        "RATE = 0.028\n",
        "IRR = RATE / 12\n",
        "geometric_sum(100, 1/(1+IRR), 360)"
      ],
      "metadata": {
        "colab": {
          "base_uri": "https://localhost:8080/"
        },
        "id": "Elf9aATnMvEN",
        "outputId": "6f77b47f-feff-4a42-dccf-597daafbba65"
      },
      "execution_count": 48,
      "outputs": [
        {
          "output_type": "execute_result",
          "data": {
            "text/plain": [
              "24393.937420576498"
            ]
          },
          "metadata": {},
          "execution_count": 48
        }
      ]
    },
    {
      "cell_type": "code",
      "source": [
        "RATE = 0.04\n",
        "IRR = RATE / 12\n",
        "geometric_sum(100, 1/(1+IRR), 360)"
      ],
      "metadata": {
        "colab": {
          "base_uri": "https://localhost:8080/"
        },
        "id": "5mteI4xYMzF2",
        "outputId": "b3d695eb-07b5-489e-e86e-5d31620d50d1"
      },
      "execution_count": 49,
      "outputs": [
        {
          "output_type": "execute_result",
          "data": {
            "text/plain": [
              "21015.94445890392"
            ]
          },
          "metadata": {},
          "execution_count": 49
        }
      ]
    },
    {
      "cell_type": "code",
      "source": [
        "LOAN = 500000\n"
      ],
      "metadata": {
        "id": "G-LotAzyNK65"
      },
      "execution_count": null,
      "outputs": []
    },
    {
      "cell_type": "code",
      "source": [
        "interest_sum(LOAN, RATE, YEAR)"
      ],
      "metadata": {
        "colab": {
          "base_uri": "https://localhost:8080/"
        },
        "id": "BepvKeZjG4kv",
        "outputId": "c0de9915-1f25-44b2-96ff-3db89e338916"
      },
      "execution_count": 31,
      "outputs": [
        {
          "output_type": "execute_result",
          "data": {
            "text/plain": [
              "86.39999999999999"
            ]
          },
          "metadata": {},
          "execution_count": 31
        }
      ]
    },
    {
      "cell_type": "code",
      "source": [
        "800000 * 1.036 / 12"
      ],
      "metadata": {
        "colab": {
          "base_uri": "https://localhost:8080/"
        },
        "id": "_C-ibd0mKBDy",
        "outputId": "a9b97c1c-8713-4e65-ce61-a15f64bc1e91"
      },
      "execution_count": 41,
      "outputs": [
        {
          "output_type": "execute_result",
          "data": {
            "text/plain": [
              "69066.66666666667"
            ]
          },
          "metadata": {},
          "execution_count": 41
        }
      ]
    },
    {
      "cell_type": "code",
      "source": [
        "def NPV(r, year, monthly_payment, loan):\n",
        "  return geometric_sum(monthly_payment, 1/(1+r/12), year*12) - loan"
      ],
      "metadata": {
        "id": "novcLJjjIifw"
      },
      "execution_count": 37,
      "outputs": []
    },
    {
      "cell_type": "code",
      "source": [
        "def nominal_rate_algorithm():\n",
        "  total_interest = interest_sum(LOAN, RATE, YEAR)\n",
        "  return LOAN + total_interest"
      ],
      "metadata": {
        "id": "g2QtItK6LlFY"
      },
      "execution_count": null,
      "outputs": []
    },
    {
      "cell_type": "code",
      "source": [
        "from scipy.optimize import minimize\n",
        "\n",
        "def compute_effective_rate(nominal_rate, year):\n",
        "  loan = 100\n",
        "  monthly_payment = (loan + interest_sum(loan, nominal_rate, year)) / (year * 12)\n",
        "  monthly_discount_rate = (1/(1+nominal_rate))**(1./12)\n",
        "  res = minimize(lambda r: (NPV(r, year, monthly_payment, loan))**2, monthly_discount_rate, method='Nelder-Mead', tol=1e-6)\n",
        "  return res.x[0]"
      ],
      "metadata": {
        "id": "YtFY0i4zIFGg"
      },
      "execution_count": 38,
      "outputs": []
    },
    {
      "cell_type": "code",
      "source": [
        "from scipy.optimize import minimize\n",
        "\n",
        "res = minimize(lambda x: (x-2)**2, 0, method='Nelder-Mead', tol=1e-6)\n",
        "res.x[0]"
      ],
      "metadata": {
        "colab": {
          "base_uri": "https://localhost:8080/"
        },
        "id": "aYiFUPdvK8WZ",
        "outputId": "3ac7ea17-d52e-44a3-e89b-8d5db88c34bf"
      },
      "execution_count": 42,
      "outputs": [
        {
          "output_type": "execute_result",
          "data": {
            "text/plain": [
              "2.000000000000002"
            ]
          },
          "metadata": {},
          "execution_count": 42
        }
      ]
    },
    {
      "cell_type": "code",
      "source": [
        "compute_effective_rate(0.015, 30)"
      ],
      "metadata": {
        "colab": {
          "base_uri": "https://localhost:8080/"
        },
        "id": "1tf_4ikpKtE4",
        "outputId": "3d07db51-ff3a-4d63-ef56-6477964709ca"
      },
      "execution_count": 39,
      "outputs": [
        {
          "output_type": "stream",
          "name": "stderr",
          "text": [
            "/usr/local/lib/python3.7/dist-packages/ipykernel_launcher.py:2: RuntimeWarning: invalid value encountered in true_divide\n",
            "  \n"
          ]
        },
        {
          "output_type": "execute_result",
          "data": {
            "text/plain": [
              "0.02663471896810252"
            ]
          },
          "metadata": {},
          "execution_count": 39
        }
      ]
    },
    {
      "cell_type": "code",
      "source": [
        "import matplotlib.pyplot as plt\n",
        "plt.style.use('seaborn-whitegrid')\n",
        "import numpy as np\n",
        "\n",
        "from functools import partial\n",
        "\n",
        "fig = plt.figure(figsize=(8, 8))\n",
        "ax = plt.axes()\n",
        "\n",
        "x = np.linspace(0, 0.2, 100)\n",
        "map_to_actual_rate = partial(compute_effective_rate, year=25)\n",
        "ax.plot(x, list(map(map_to_actual_rate, x)), label='Actual rate')\n",
        "ax.plot(x, x, label='Nominal rate')\n",
        "plt.xlim([0, 0.25])\n",
        "plt.ylim([0, 0.25])\n",
        "plt.legend()"
      ],
      "metadata": {
        "colab": {
          "base_uri": "https://localhost:8080/",
          "height": 535
        },
        "id": "wwhW_Mi_K28W",
        "outputId": "c2bd5ad1-7f96-4989-d06e-0e2ff46fd59c"
      },
      "execution_count": null,
      "outputs": [
        {
          "output_type": "stream",
          "name": "stderr",
          "text": [
            "/usr/local/lib/python3.7/dist-packages/ipykernel_launcher.py:2: RuntimeWarning: invalid value encountered in true_divide\n",
            "  \n"
          ]
        },
        {
          "output_type": "execute_result",
          "data": {
            "text/plain": [
              "<matplotlib.legend.Legend at 0x7ff5119da5d0>"
            ]
          },
          "metadata": {},
          "execution_count": 127
        },
        {
          "output_type": "display_data",
          "data": {
            "image/png": "[encoded data removed]",
            "text/plain": [
              "<Figure size 576x576 with 1 Axes>"
            ]
          },
          "metadata": {}
        }
      ]
    },
    {
      "cell_type": "code",
      "source": [
        "map_to_actual_rate(0.05)"
      ],
      "metadata": {
        "colab": {
          "base_uri": "https://localhost:8080/"
        },
        "id": "CvK-tm-NYERf",
        "outputId": "1e21cb01-b392-4036-cc15-744a4d2a4c27"
      },
      "execution_count": null,
      "outputs": [
        {
          "output_type": "stream",
          "name": "stderr",
          "text": [
            "/usr/local/lib/python3.7/dist-packages/ipykernel_launcher.py:2: RuntimeWarning: invalid value encountered in true_divide\n",
            "  \n"
          ]
        },
        {
          "output_type": "execute_result",
          "data": {
            "text/plain": [
              "0.07742503932147489"
            ]
          },
          "metadata": {},
          "execution_count": 128
        }
      ]
    },
    {
      "cell_type": "code",
      "source": [
        "map_to_actual_rate(0.13)"
      ],
      "metadata": {
        "colab": {
          "base_uri": "https://localhost:8080/"
        },
        "id": "qFU6tnbheg-Z",
        "outputId": "12644190-e53e-41df-b59b-4d63f25de34a"
      },
      "execution_count": null,
      "outputs": [
        {
          "output_type": "execute_result",
          "data": {
            "text/plain": [
              "0.1698645169328695"
            ]
          },
          "metadata": {},
          "execution_count": 137
        }
      ]
    },
    {
      "cell_type": "code",
      "source": [
        "100 * (1 + 0.05)"
      ],
      "metadata": {
        "colab": {
          "base_uri": "https://localhost:8080/"
        },
        "id": "v9HOt4o7OQyv",
        "outputId": "c04f72b4-718e-4c9d-8699-81c20d3c353e"
      },
      "execution_count": null,
      "outputs": [
        {
          "output_type": "execute_result",
          "data": {
            "text/plain": [
              "105.0"
            ]
          },
          "metadata": {},
          "execution_count": 78
        }
      ]
    },
    {
      "cell_type": "code",
      "source": [
        "monthly_compound = partial(geometric_sum, a=100, n=12)"
      ],
      "metadata": {
        "id": "9wGKMyfDOiN2"
      },
      "execution_count": null,
      "outputs": []
    },
    {
      "cell_type": "code",
      "source": [
        "100 * (1 + 0.05/12)**12"
      ],
      "metadata": {
        "colab": {
          "base_uri": "https://localhost:8080/"
        },
        "id": "WuedDzI-Ow94",
        "outputId": "3b699fc8-461b-434e-f994-a17fcdca58b0"
      },
      "execution_count": null,
      "outputs": [
        {
          "output_type": "execute_result",
          "data": {
            "text/plain": [
              "105.1161897881733"
            ]
          },
          "metadata": {},
          "execution_count": 87
        }
      ]
    },
    {
      "cell_type": "code",
      "source": [
        "import numpy as np\n",
        "\n",
        "def find_monthly_rate(monthly_rate):\n",
        "  res = minimize(lambda yearly_rate: ((1 + yearly_rate)**25 - (1 + monthly_rate/12)**(12*25))**2, monthly_rate, method='Nelder-Mead', tol=1e-6)\n",
        "  return res.x[0]\n",
        "\n",
        "def find_exp_rate(exp_rate):\n",
        "  res = minimize(lambda yearly_rate: ((1 + yearly_rate) - np.exp(exp_rate))**2, exp_rate, method='Nelder-Mead', tol=1e-6)\n",
        "  return res.x[0]"
      ],
      "metadata": {
        "id": "1sMZHaFcP3Cw"
      },
      "execution_count": null,
      "outputs": []
    },
    {
      "cell_type": "code",
      "source": [
        "find_exp_rate(0.05)"
      ],
      "metadata": {
        "colab": {
          "base_uri": "https://localhost:8080/"
        },
        "id": "1H0QwobEQUfC",
        "outputId": "1c3415ba-8f71-4ff4-ca89-a68e7e384cec"
      },
      "execution_count": null,
      "outputs": [
        {
          "output_type": "execute_result",
          "data": {
            "text/plain": [
              "0.0512713623046875"
            ]
          },
          "metadata": {},
          "execution_count": 111
        }
      ]
    },
    {
      "cell_type": "code",
      "source": [
        "find_monthly_rate(0.05)"
      ],
      "metadata": {
        "colab": {
          "base_uri": "https://localhost:8080/"
        },
        "id": "Q13MHB5TSZIp",
        "outputId": "78bab901-efc8-4027-fd69-9ddd0229d67f"
      },
      "execution_count": null,
      "outputs": [
        {
          "output_type": "execute_result",
          "data": {
            "text/plain": [
              "0.05116210937500001"
            ]
          },
          "metadata": {},
          "execution_count": 112
        }
      ]
    },
    {
      "cell_type": "code",
      "source": [
        "(6599.6 * 240 - 1000000)/20/1000000"
      ],
      "metadata": {
        "colab": {
          "base_uri": "https://localhost:8080/"
        },
        "id": "DPax-dUOeMah",
        "outputId": "5a9572cd-8e45-44d4-d8d3-b7b772435b71"
      },
      "execution_count": null,
      "outputs": [
        {
          "output_type": "execute_result",
          "data": {
            "text/plain": [
              "0.0291952"
            ]
          },
          "metadata": {},
          "execution_count": 136
        }
      ]
    },
    {
      "cell_type": "code",
      "source": [
        "1078 / 240000."
      ],
      "metadata": {
        "colab": {
          "base_uri": "https://localhost:8080/"
        },
        "id": "2GXrQFQEfbF4",
        "outputId": "1ba95c1f-178a-4e8d-a769-f574e1877487"
      },
      "execution_count": null,
      "outputs": [
        {
          "output_type": "execute_result",
          "data": {
            "text/plain": [
              "0.004491666666666666"
            ]
          },
          "metadata": {},
          "execution_count": 138
        }
      ]
    },
    {
      "cell_type": "code",
      "source": [
        "(1078 * 360 - 240000) / 30 / 240000"
      ],
      "metadata": {
        "colab": {
          "base_uri": "https://localhost:8080/"
        },
        "id": "8rF6tuPYgUg8",
        "outputId": "9e7db61c-be16-4cd9-ac2d-8d5a668572c1"
      },
      "execution_count": null,
      "outputs": [
        {
          "output_type": "execute_result",
          "data": {
            "text/plain": [
              "0.020566666666666667"
            ]
          },
          "metadata": {},
          "execution_count": 140
        }
      ]
    },
    {
      "cell_type": "code",
      "source": [
        "geometric_sum(1078, (1/(1+0.0358))**(1./12), 360)"
      ],
      "metadata": {
        "colab": {
          "base_uri": "https://localhost:8080/"
        },
        "id": "4v1CzRINg6ik",
        "outputId": "2cf3afce-d28c-4b58-c755-78183b665322"
      },
      "execution_count": null,
      "outputs": [
        {
          "output_type": "execute_result",
          "data": {
            "text/plain": [
              "240095.82972520927"
            ]
          },
          "metadata": {},
          "execution_count": 165
        }
      ]
    },
    {
      "cell_type": "code",
      "source": [
        "geometric_sum(1078, (1/(1+0.03526/12)), 360)"
      ],
      "metadata": {
        "colab": {
          "base_uri": "https://localhost:8080/"
        },
        "id": "QdtE5fQEh2Wy",
        "outputId": "94f3fec5-e995-4fb9-959e-6f7481f9d62e"
      },
      "execution_count": null,
      "outputs": [
        {
          "output_type": "execute_result",
          "data": {
            "text/plain": [
              "239994.23461731867"
            ]
          },
          "metadata": {},
          "execution_count": 172
        }
      ]
    },
    {
      "cell_type": "code",
      "source": [
        "def calculate_irr_from_monthly_pay(month_pay, n_term, capital):\n",
        "  geometric_sum(6599.6, (1/(1+0.0079))**(1./12), 360)"
      ],
      "metadata": {
        "id": "jVCJzJhtf8qj"
      },
      "execution_count": null,
      "outputs": []
    }
  ]
}