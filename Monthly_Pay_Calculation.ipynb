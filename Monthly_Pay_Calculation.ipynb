{
  "nbformat": 4,
  "nbformat_minor": 0,
  "metadata": {
    "colab": {
      "name": "Monthly Pay Calculation",
      "provenance": [],
      "collapsed_sections": []
    },
    "kernelspec": {
      "name": "python3",
      "display_name": "Python 3"
    },
    "language_info": {
      "name": "python"
    }
  },
  "cells": [
    {
      "cell_type": "code",
      "source": [
        "def calc_monthly_pay(capital, num_terms, monthly_rate):\n",
        "  return monthly_rate * capital / (1 -  ((1 + monthly_rate) ** (-num_terms)))"
      ],
      "metadata": {
        "id": "N4tpDKtkCaXc"
      },
      "execution_count": 68,
      "outputs": []
    },
    {
      "cell_type": "code",
      "source": [
        "calc_monthly_pay(1000000, 360, 0.028/12)"
      ],
      "metadata": {
        "colab": {
          "base_uri": "https://localhost:8080/"
        },
        "id": "M8R1ABc3N46R",
        "outputId": "16dc91f1-5407-43d3-8100-be00cd70affb"
      },
      "execution_count": 107,
      "outputs": [
        {
          "output_type": "execute_result",
          "data": {
            "text/plain": [
              "4108.944431774588"
            ]
          },
          "metadata": {},
          "execution_count": 107
        }
      ]
    },
    {
      "cell_type": "code",
      "source": [
        "calc_monthly_pay(800000, 360, 0.04/12)"
      ],
      "metadata": {
        "colab": {
          "base_uri": "https://localhost:8080/"
        },
        "id": "x3t9smdLOA2f",
        "outputId": "6bf24fa0-6971-432c-e8ec-be9b83a1c883"
      },
      "execution_count": 108,
      "outputs": [
        {
          "output_type": "execute_result",
          "data": {
            "text/plain": [
              "3819.3223637236306"
            ]
          },
          "metadata": {},
          "execution_count": 108
        }
      ]
    },
    {
      "cell_type": "code",
      "source": [
        "100/ 80"
      ],
      "metadata": {
        "colab": {
          "base_uri": "https://localhost:8080/"
        },
        "id": "diLp0GAKVyNi",
        "outputId": "55b88e16-587b-4a72-a867-e50fbeac3f91"
      },
      "execution_count": 109,
      "outputs": [
        {
          "output_type": "execute_result",
          "data": {
            "text/plain": [
              "1.25"
            ]
          },
          "metadata": {},
          "execution_count": 109
        }
      ]
    },
    {
      "cell_type": "code",
      "source": [
        "from functools import partial\n",
        "\n",
        "monthly_pay_80w_base = partial(calc_monthly_pay, 800000, 360)\n",
        "monthly_pay_100w_base = partial(calc_monthly_pay, 1000000, 360)"
      ],
      "metadata": {
        "id": "B7SNY00BPFdt"
      },
      "execution_count": 31,
      "outputs": []
    },
    {
      "cell_type": "code",
      "source": [
        "monthly_pay_80w_base(0.045/12)"
      ],
      "metadata": {
        "colab": {
          "base_uri": "https://localhost:8080/"
        },
        "id": "A3IVg7aBQNVl",
        "outputId": "0c1c5108-3dc6-40c2-c0d4-ad1d75ac97f9"
      },
      "execution_count": 35,
      "outputs": [
        {
          "output_type": "execute_result",
          "data": {
            "text/plain": [
              "4053.4824786070863"
            ]
          },
          "metadata": {},
          "execution_count": 35
        }
      ]
    },
    {
      "cell_type": "code",
      "source": [
        "80 * 0.04"
      ],
      "metadata": {
        "colab": {
          "base_uri": "https://localhost:8080/"
        },
        "id": "Y2cxfU7tSsEF",
        "outputId": "d7d1e711-5948-4555-f992-92c254c6f130"
      },
      "execution_count": 71,
      "outputs": [
        {
          "output_type": "execute_result",
          "data": {
            "text/plain": [
              "3.2"
            ]
          },
          "metadata": {},
          "execution_count": 71
        }
      ]
    },
    {
      "cell_type": "code",
      "source": [
        "100 * 0.028"
      ],
      "metadata": {
        "colab": {
          "base_uri": "https://localhost:8080/"
        },
        "id": "9WMBzxyES4HO",
        "outputId": "77f98520-f2ad-4e93-9757-9034b0d9a90a"
      },
      "execution_count": 72,
      "outputs": [
        {
          "output_type": "execute_result",
          "data": {
            "text/plain": [
              "2.8000000000000003"
            ]
          },
          "metadata": {},
          "execution_count": 72
        }
      ]
    },
    {
      "cell_type": "code",
      "source": [
        "import matplotlib.pyplot as plt\n",
        "plt.style.use('seaborn-whitegrid')\n",
        "import numpy as np\n",
        "from scipy.optimize import minimize\n",
        "\n",
        "from functools import partial\n",
        "\n",
        "def compute_100w_rate(rate_80w):\n",
        "  res = minimize(lambda r: (monthly_pay_80w_base(rate_80w) - monthly_pay_100w_base(r))**2, rate_80w, method='Nelder-Mead', tol=1e-6)\n",
        "  return res.x[0]"
      ],
      "metadata": {
        "id": "mdlaAbgXOW-f"
      },
      "execution_count": 47,
      "outputs": []
    },
    {
      "cell_type": "code",
      "source": [
        "compute_100w_rate(0.045/12)*12"
      ],
      "metadata": {
        "colab": {
          "base_uri": "https://localhost:8080/"
        },
        "id": "B0Pc9NeQRfIv",
        "outputId": "e9223cf5-961c-437b-bf6a-58cefe95fe85"
      },
      "execution_count": 85,
      "outputs": [
        {
          "output_type": "execute_result",
          "data": {
            "text/plain": [
              "0.026952724456787088"
            ]
          },
          "metadata": {},
          "execution_count": 85
        }
      ]
    },
    {
      "cell_type": "code",
      "source": [
        "compute_100w_rate(0.00001)"
      ],
      "metadata": {
        "colab": {
          "base_uri": "https://localhost:8080/"
        },
        "id": "bPjP_4RvUg1W",
        "outputId": "a3006da6-7520-48d2-ba3f-6d8af7009446"
      },
      "execution_count": 87,
      "outputs": [
        {
          "output_type": "execute_result",
          "data": {
            "text/plain": [
              "-0.001183652343749998"
            ]
          },
          "metadata": {},
          "execution_count": 87
        }
      ]
    },
    {
      "cell_type": "code",
      "source": [
        "rate_80w = np.linspace(0.0001, 0.1, 100)"
      ],
      "metadata": {
        "id": "fovMvRR9SBMm"
      },
      "execution_count": 89,
      "outputs": []
    },
    {
      "cell_type": "code",
      "source": [
        "rate_100w = np.array(list(map(compute_100w_rate, rate_80w/12)))*12"
      ],
      "metadata": {
        "colab": {
          "base_uri": "https://localhost:8080/"
        },
        "id": "FxOGgIORSFmf",
        "outputId": "b73f2106-b7c5-42d9-c8a6-5dd4ff885841"
      },
      "execution_count": 90,
      "outputs": [
        {
          "output_type": "stream",
          "name": "stderr",
          "text": [
            "/usr/local/lib/python3.7/dist-packages/ipykernel_launcher.py:2: RuntimeWarning: divide by zero encountered in true_divide\n",
            "  \n",
            "/usr/local/lib/python3.7/dist-packages/ipykernel_launcher.py:2: RuntimeWarning: invalid value encountered in true_divide\n",
            "  \n"
          ]
        }
      ]
    },
    {
      "cell_type": "code",
      "source": [
        "fig = plt.figure(figsize=(8, 8))\n",
        "ax = plt.axes()\n",
        "\n",
        "x = np.linspace(0, 0.1, 100)\n",
        "ax.plot(x, rate_100w, label='Actual rate')\n",
        "# plt.xlim([0, 0.1])\n",
        "# plt.ylim([0, 0.1])\n",
        "plt.legend()"
      ],
      "metadata": {
        "colab": {
          "base_uri": "https://localhost:8080/",
          "height": 497
        },
        "id": "chxJI_3eSYzC",
        "outputId": "4f11726a-547f-4cc2-99f0-3a8bf7a43a45"
      },
      "execution_count": 91,
      "outputs": [
        {
          "output_type": "execute_result",
          "data": {
            "text/plain": [
              "<matplotlib.legend.Legend at 0x7f73e38fcc90>"
            ]
          },
          "metadata": {},
          "execution_count": 91
        },
        {
          "output_type": "display_data",
          "data": {
            "image/png": "[encoded data removed]",
            "text/plain": [
              "<Figure size 576x576 with 1 Axes>"
            ]
          },
          "metadata": {}
        }
      ]
    },
    {
      "cell_type": "code",
      "source": [
        "a = np.linspace(0, 100, 3)"
      ],
      "metadata": {
        "id": "Qi6925VDWOpf"
      },
      "execution_count": 104,
      "outputs": []
    },
    {
      "cell_type": "code",
      "source": [
        "np.abs(a)"
      ],
      "metadata": {
        "colab": {
          "base_uri": "https://localhost:8080/"
        },
        "id": "it6ksxQKWULd",
        "outputId": "a0731b02-6682-448b-b918-1c2eeefeffa7"
      },
      "execution_count": 105,
      "outputs": [
        {
          "output_type": "execute_result",
          "data": {
            "text/plain": [
              "array([  0.,  50., 100.])"
            ]
          },
          "metadata": {},
          "execution_count": 105
        }
      ]
    },
    {
      "cell_type": "code",
      "source": [
        "list(map(np.sqrt, a))"
      ],
      "metadata": {
        "colab": {
          "base_uri": "https://localhost:8080/"
        },
        "id": "ojtyU63yWXxH",
        "outputId": "fc4c7dab-0c6e-4f94-86a7-ae6443d79c77"
      },
      "execution_count": 165,
      "outputs": [
        {
          "output_type": "execute_result",
          "data": {
            "text/plain": [
              "[0.0, 7.0710678118654755, 10.0]"
            ]
          },
          "metadata": {},
          "execution_count": 165
        }
      ]
    },
    {
      "cell_type": "code",
      "source": [
        "class Mortgage():\n",
        "  def __init__(self, capital, interest, terms):\n",
        "    self.capital = capital\n",
        "    self.interest = interest\n",
        "    self.terms = terms\n",
        "  \n",
        "  def calc_monthly_pay(self):\n",
        "    monthly_rate = self.interest/12\n",
        "    capital = self.capital\n",
        "    num_terms = self.terms\n",
        "    return monthly_rate * capital / (1 -  ((1 + monthly_rate) ** (-num_terms)))"
      ],
      "metadata": {
        "id": "IUwqn23nXJh6"
      },
      "execution_count": 123,
      "outputs": []
    },
    {
      "cell_type": "code",
      "source": [
        "class CarMortgage(Mortgage):\n",
        "  def __init__(self, capital, interest, terms):\n",
        "     super().__init__(capital, interest, terms)\n",
        "  \n",
        "  def setModel(self, model):\n",
        "    self.model = model\n",
        "\n",
        "  def getModel(self):\n",
        "    return self.model"
      ],
      "metadata": {
        "id": "UlVdhkxqZKqc"
      },
      "execution_count": 143,
      "outputs": []
    },
    {
      "cell_type": "code",
      "source": [
        "class HouseMortgage(Mortgage):\n",
        "  def __init__(self, capital, interest, terms):\n",
        "     super().__init__(capital, interest, terms)\n",
        "  \n",
        "  def setHouseType(self, house):\n",
        "    self.house = house\n",
        "\n",
        "  def getHouseType(self):\n",
        "    return self.house"
      ],
      "metadata": {
        "id": "2TzL6G3sanCw"
      },
      "execution_count": 149,
      "outputs": []
    },
    {
      "cell_type": "code",
      "source": [
        "h1 = HouseMortgage(1000000, 0.045, 360)\n",
        "h1.setHouseType('4b4b')"
      ],
      "metadata": {
        "id": "7As_3BV1atlR"
      },
      "execution_count": 166,
      "outputs": []
    },
    {
      "cell_type": "code",
      "source": [
        "x = 123"
      ],
      "metadata": {
        "id": "TECn5aCIfaXG"
      },
      "execution_count": 169,
      "outputs": []
    },
    {
      "cell_type": "code",
      "source": [
        "def add(x, y):\n",
        "  return x, y"
      ],
      "metadata": {
        "id": "4GvEBaMofc9O"
      },
      "execution_count": 182,
      "outputs": []
    },
    {
      "cell_type": "code",
      "source": [
        "temp = [1, 2, 3, 5, 9]"
      ],
      "metadata": {
        "id": "NLflbV8RfxXp"
      },
      "execution_count": 183,
      "outputs": []
    },
    {
      "cell_type": "code",
      "source": [
        "from functools import reduce"
      ],
      "metadata": {
        "id": "YKcSK54Lf3Yp"
      },
      "execution_count": 184,
      "outputs": []
    },
    {
      "cell_type": "code",
      "source": [
        "reduce(add, temp)"
      ],
      "metadata": {
        "colab": {
          "base_uri": "https://localhost:8080/"
        },
        "id": "64j5xunAfzjW",
        "outputId": "a3203783-e7fe-4213-e0ce-e03564ecff46"
      },
      "execution_count": 185,
      "outputs": [
        {
          "output_type": "execute_result",
          "data": {
            "text/plain": [
              "((((1, 2), 3), 5), 9)"
            ]
          },
          "metadata": {},
          "execution_count": 185
        }
      ]
    },
    {
      "cell_type": "code",
      "source": [
        "add"
      ],
      "metadata": {
        "colab": {
          "base_uri": "https://localhost:8080/"
        },
        "id": "tUSov8sSfgA3",
        "outputId": "0417f322-0a9b-4bb6-c648-5a1649f24eee"
      },
      "execution_count": 171,
      "outputs": [
        {
          "output_type": "execute_result",
          "data": {
            "text/plain": [
              "<function __main__.add>"
            ]
          },
          "metadata": {},
          "execution_count": 171
        }
      ]
    },
    {
      "cell_type": "code",
      "source": [
        "h1"
      ],
      "metadata": {
        "colab": {
          "base_uri": "https://localhost:8080/"
        },
        "id": "UdbWi4H2fh1P",
        "outputId": "b64a8ee0-3602-4eff-ff78-5535cac7b983"
      },
      "execution_count": 172,
      "outputs": [
        {
          "output_type": "execute_result",
          "data": {
            "text/plain": [
              "<__main__.HouseMortgage at 0x7f73e3f287d0>"
            ]
          },
          "metadata": {},
          "execution_count": 172
        }
      ]
    },
    {
      "cell_type": "code",
      "source": [
        "h1.calc_monthly_pay()"
      ],
      "metadata": {
        "colab": {
          "base_uri": "https://localhost:8080/"
        },
        "id": "EUgFMjktaz5Y",
        "outputId": "a11ae00a-e021-41d7-899c-c4178435c272"
      },
      "execution_count": 154,
      "outputs": [
        {
          "output_type": "execute_result",
          "data": {
            "text/plain": [
              "5066.853098258858"
            ]
          },
          "metadata": {},
          "execution_count": 154
        }
      ]
    },
    {
      "cell_type": "code",
      "source": [
        "h1.getHouseType()"
      ],
      "metadata": {
        "colab": {
          "base_uri": "https://localhost:8080/",
          "height": 35
        },
        "id": "7WzfiNjEa4OP",
        "outputId": "66668508-5c11-41f5-e6b9-eef5486fb670"
      },
      "execution_count": 155,
      "outputs": [
        {
          "output_type": "execute_result",
          "data": {
            "application/vnd.google.colaboratory.intrinsic+json": {
              "type": "string"
            },
            "text/plain": [
              "'4b4b'"
            ]
          },
          "metadata": {},
          "execution_count": 155
        }
      ]
    },
    {
      "cell_type": "code",
      "source": [
        "c1 = CarMortgage(100000, 0.045, 36)"
      ],
      "metadata": {
        "id": "kJebeQ_0Zm6Z"
      },
      "execution_count": 145,
      "outputs": []
    },
    {
      "cell_type": "code",
      "source": [
        "c1.setModel('Honda Civic')"
      ],
      "metadata": {
        "id": "WxMdW2aZaRBV"
      },
      "execution_count": 146,
      "outputs": []
    },
    {
      "cell_type": "code",
      "source": [
        "c1.calc_monthly_pay()"
      ],
      "metadata": {
        "colab": {
          "base_uri": "https://localhost:8080/"
        },
        "id": "zIXZH-WoZ_Hu",
        "outputId": "ea373324-ce0d-4127-dc91-e01ea5d846b0"
      },
      "execution_count": 138,
      "outputs": [
        {
          "output_type": "execute_result",
          "data": {
            "text/plain": [
              "2974.6924478376177"
            ]
          },
          "metadata": {},
          "execution_count": 138
        }
      ]
    },
    {
      "cell_type": "code",
      "source": [
        "c1.getModel()"
      ],
      "metadata": {
        "colab": {
          "base_uri": "https://localhost:8080/",
          "height": 35
        },
        "id": "mS1cWh4zaX6H",
        "outputId": "1d3f41b5-b090-4903-8849-e443606ed784"
      },
      "execution_count": 147,
      "outputs": [
        {
          "output_type": "execute_result",
          "data": {
            "application/vnd.google.colaboratory.intrinsic+json": {
              "type": "string"
            },
            "text/plain": [
              "'Honda Civic'"
            ]
          },
          "metadata": {},
          "execution_count": 147
        }
      ]
    },
    {
      "cell_type": "code",
      "source": [
        "m1 = Mortgage(800000, 0.045, 360)"
      ],
      "metadata": {
        "id": "pxJQ5g5EXs2N"
      },
      "execution_count": 124,
      "outputs": []
    },
    {
      "cell_type": "code",
      "source": [
        "m2 = Mortgage(1000000, 0.028, 360)"
      ],
      "metadata": {
        "id": "Ocr6U97uYA2n"
      },
      "execution_count": 125,
      "outputs": []
    },
    {
      "cell_type": "code",
      "source": [
        "m1.setModel('Toyota Camry')"
      ],
      "metadata": {
        "colab": {
          "base_uri": "https://localhost:8080/",
          "height": 166
        },
        "id": "Vx3ucnV6aeJ_",
        "outputId": "dff3d23e-7741-4f85-b733-6f05481c4785"
      },
      "execution_count": 148,
      "outputs": [
        {
          "output_type": "error",
          "ename": "AttributeError",
          "evalue": "ignored",
          "traceback": [
            "\u001b[0;31m---------------------------------------------------------------------------\u001b[0m",
            "\u001b[0;31mAttributeError\u001b[0m                            Traceback (most recent call last)",
            "\u001b[0;32m<ipython-input-148-34bfe28d304b>\u001b[0m in \u001b[0;36m<module>\u001b[0;34m()\u001b[0m\n\u001b[0;32m----> 1\u001b[0;31m \u001b[0mm1\u001b[0m\u001b[0;34m.\u001b[0m\u001b[0msetModel\u001b[0m\u001b[0;34m(\u001b[0m\u001b[0;34m'Toyota Camry'\u001b[0m\u001b[0;34m)\u001b[0m\u001b[0;34m\u001b[0m\u001b[0;34m\u001b[0m\u001b[0m\n\u001b[0m",
            "\u001b[0;31mAttributeError\u001b[0m: 'Mortgage' object has no attribute 'setModel'"
          ]
        }
      ]
    },
    {
      "cell_type": "code",
      "source": [
        "m1.calc_monthly_pay()"
      ],
      "metadata": {
        "colab": {
          "base_uri": "https://localhost:8080/"
        },
        "id": "s1xiCGybYEyr",
        "outputId": "39b1bf79-7f0a-4416-dd33-f7c63d66a848"
      },
      "execution_count": 126,
      "outputs": [
        {
          "output_type": "execute_result",
          "data": {
            "text/plain": [
              "4053.4824786070863"
            ]
          },
          "metadata": {},
          "execution_count": 126
        }
      ]
    },
    {
      "cell_type": "code",
      "source": [
        "m2.calc_monthly_pay()"
      ],
      "metadata": {
        "colab": {
          "base_uri": "https://localhost:8080/"
        },
        "id": "QdQpAfi3YoEU",
        "outputId": "67d3cd8a-4a33-437e-f6c7-27d3ee230e05"
      },
      "execution_count": 127,
      "outputs": [
        {
          "output_type": "execute_result",
          "data": {
            "text/plain": [
              "4108.944431774588"
            ]
          },
          "metadata": {},
          "execution_count": 127
        }
      ]
    }
  ]
}