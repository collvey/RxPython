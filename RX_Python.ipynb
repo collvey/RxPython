{
  "nbformat": 4,
  "nbformat_minor": 0,
  "metadata": {
    "colab": {
      "name": "RX Python",
      "provenance": [],
      "collapsed_sections": []
    },
    "kernelspec": {
      "name": "python3",
      "display_name": "Python 3"
    },
    "language_info": {
      "name": "python"
    }
  },
  "cells": [
    {
      "cell_type": "code",
      "execution_count": 9,
      "metadata": {
        "colab": {
          "base_uri": "https://localhost:8080/"
        },
        "id": "wy86ZCGQjZMD",
        "outputId": "e6ec07ec-72c9-4840-a489-8efdf23e28f0"
      },
      "outputs": [
        {
          "output_type": "stream",
          "name": "stdout",
          "text": [
            "Collecting rx\n",
            "  Downloading Rx-3.2.0-py3-none-any.whl (199 kB)\n",
            "\u001b[?25l\r\u001b[K     |█▋                              | 10 kB 21.9 MB/s eta 0:00:01\r\u001b[K     |███▎                            | 20 kB 25.0 MB/s eta 0:00:01\r\u001b[K     |█████                           | 30 kB 29.5 MB/s eta 0:00:01\r\u001b[K     |██████▋                         | 40 kB 27.7 MB/s eta 0:00:01\r\u001b[K     |████████▎                       | 51 kB 12.2 MB/s eta 0:00:01\r\u001b[K     |█████████▉                      | 61 kB 13.8 MB/s eta 0:00:01\r\u001b[K     |███████████▌                    | 71 kB 10.3 MB/s eta 0:00:01\r\u001b[K     |█████████████▏                  | 81 kB 11.3 MB/s eta 0:00:01\r\u001b[K     |██████████████▉                 | 92 kB 12.4 MB/s eta 0:00:01\r\u001b[K     |████████████████▌               | 102 kB 10.6 MB/s eta 0:00:01\r\u001b[K     |██████████████████              | 112 kB 10.6 MB/s eta 0:00:01\r\u001b[K     |███████████████████▊            | 122 kB 10.6 MB/s eta 0:00:01\r\u001b[K     |█████████████████████▍          | 133 kB 10.6 MB/s eta 0:00:01\r\u001b[K     |███████████████████████         | 143 kB 10.6 MB/s eta 0:00:01\r\u001b[K     |████████████████████████▊       | 153 kB 10.6 MB/s eta 0:00:01\r\u001b[K     |██████████████████████████▎     | 163 kB 10.6 MB/s eta 0:00:01\r\u001b[K     |████████████████████████████    | 174 kB 10.6 MB/s eta 0:00:01\r\u001b[K     |█████████████████████████████▋  | 184 kB 10.6 MB/s eta 0:00:01\r\u001b[K     |███████████████████████████████▎| 194 kB 10.6 MB/s eta 0:00:01\r\u001b[K     |████████████████████████████████| 199 kB 10.6 MB/s \n",
            "\u001b[?25hInstalling collected packages: rx\n",
            "Successfully installed rx-3.2.0\n"
          ]
        }
      ],
      "source": [
        "!pip install rx"
      ]
    },
    {
      "cell_type": "code",
      "source": [
        "import rx"
      ],
      "metadata": {
        "id": "852JNQH3jdMg"
      },
      "execution_count": 12,
      "outputs": []
    },
    {
      "cell_type": "code",
      "source": [
        "!pip install pyfunctional"
      ],
      "metadata": {
        "colab": {
          "base_uri": "https://localhost:8080/"
        },
        "id": "tezmHS8VmW4R",
        "outputId": "6319d0ab-aee3-4c44-8fe5-2a87e1b59180"
      },
      "execution_count": 17,
      "outputs": [
        {
          "output_type": "stream",
          "name": "stdout",
          "text": [
            "Collecting pyfunctional\n",
            "  Downloading PyFunctional-1.4.3-py3-none-any.whl (49 kB)\n",
            "\u001b[?25l\r\u001b[K     |██████▋                         | 10 kB 19.0 MB/s eta 0:00:01\r\u001b[K     |█████████████▎                  | 20 kB 24.6 MB/s eta 0:00:01\r\u001b[K     |███████████████████▉            | 30 kB 10.2 MB/s eta 0:00:01\r\u001b[K     |██████████████████████████▌     | 40 kB 12.1 MB/s eta 0:00:01\r\u001b[K     |████████████████████████████████| 49 kB 3.5 MB/s \n",
            "\u001b[?25hRequirement already satisfied: tabulate<=1.0.0 in /usr/local/lib/python3.7/dist-packages (from pyfunctional) (0.8.9)\n",
            "Requirement already satisfied: dill>=0.2.5 in /usr/local/lib/python3.7/dist-packages (from pyfunctional) (0.3.4)\n",
            "Installing collected packages: pyfunctional\n",
            "Successfully installed pyfunctional-1.4.3\n"
          ]
        }
      ]
    },
    {
      "cell_type": "code",
      "source": [
        "from functional import seq"
      ],
      "metadata": {
        "id": "dM5vTLu0mYYR"
      },
      "execution_count": 18,
      "outputs": []
    },
    {
      "cell_type": "code",
      "source": [
        "result = seq(1,2,3,4).map(lambda x: x*2).filter(lambda x: x > 4).reduce(lambda x, y: x + y)\n",
        "result"
      ],
      "metadata": {
        "colab": {
          "base_uri": "https://localhost:8080/"
        },
        "id": "MMH1p0dHmaaB",
        "outputId": "47ed1f38-4e9c-4731-90c4-686cc64d7496"
      },
      "execution_count": 21,
      "outputs": [
        {
          "output_type": "execute_result",
          "data": {
            "text/plain": [
              "14"
            ]
          },
          "metadata": {},
          "execution_count": 21
        }
      ]
    },
    {
      "cell_type": "code",
      "source": [
        "1,2,3,4 -> 2,4,6,8 -> 6,8 -> 14"
      ],
      "metadata": {
        "id": "tRquVngkmhcR"
      },
      "execution_count": null,
      "outputs": []
    },
    {
      "cell_type": "code",
      "source": [
        "result = seq(\"Ram\", \"Mohan\", \"Shyam\").map(lambda input: \"Received \" + input + \"\\n\").reduce(lambda x, y: x + y)\n",
        "print(result)"
      ],
      "metadata": {
        "colab": {
          "base_uri": "https://localhost:8080/"
        },
        "id": "kLkYKhFzm_VK",
        "outputId": "9be69c78-d0c6-4c4e-810e-244318f93fe3"
      },
      "execution_count": 34,
      "outputs": [
        {
          "output_type": "stream",
          "name": "stdout",
          "text": [
            "Received Ram\n",
            "Received Mohan\n",
            "Received Shyam\n",
            "\n"
          ]
        }
      ]
    }
  ]
}